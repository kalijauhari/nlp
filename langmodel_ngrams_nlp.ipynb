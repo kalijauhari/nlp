{
  "nbformat": 4,
  "nbformat_minor": 0,
  "metadata": {
    "colab": {
      "provenance": [],
      "authorship_tag": "ABX9TyPg5W70A6L5MHNtKmrp4q8e",
      "include_colab_link": true
    },
    "kernelspec": {
      "name": "python3",
      "display_name": "Python 3"
    },
    "language_info": {
      "name": "python"
    }
  },
  "cells": [
    {
      "cell_type": "markdown",
      "metadata": {
        "id": "view-in-github",
        "colab_type": "text"
      },
      "source": [
        "<a href=\"https://colab.research.google.com/github/kalijauhari/nlp/blob/main/langmodel_ngrams_nlp.ipynb\" target=\"_parent\"><img src=\"https://colab.research.google.com/assets/colab-badge.svg\" alt=\"Open In Colab\"/></a>"
      ]
    },
    {
      "cell_type": "code",
      "execution_count": 14,
      "metadata": {
        "colab": {
          "base_uri": "https://localhost:8080/"
        },
        "id": "lSbfs6B31r8y",
        "outputId": "21282e57-d13d-4bce-9b9a-630f8cc70385"
      },
      "outputs": [
        {
          "output_type": "stream",
          "name": "stderr",
          "text": [
            "[nltk_data] Downloading package punkt to /root/nltk_data...\n",
            "[nltk_data]   Unzipping tokenizers/punkt.zip.\n"
          ]
        }
      ],
      "source": [
        "import nltk\n",
        "nltk.download('punkt')\n",
        "import nltk.util\n",
        "import nltk.tokenize"
      ]
    },
    {
      "cell_type": "code",
      "source": [
        "from nltk.util import bigrams,trigrams,ngrams"
      ],
      "metadata": {
        "id": "-B209eT112Sf"
      },
      "execution_count": 8,
      "outputs": []
    },
    {
      "cell_type": "code",
      "source": [
        "from nltk.tokenize import sent_tokenize,word_tokenize\n",
        "str=\"hello world, today is an awesome day \"\n",
        "sent=word_tokenize(str)\n",
        "print(sent)"
      ],
      "metadata": {
        "colab": {
          "base_uri": "https://localhost:8080/"
        },
        "id": "Ggco-qO61_qZ",
        "outputId": "3aa76003-2ae0-48f8-c81b-0a93a98e9b0c"
      },
      "execution_count": 22,
      "outputs": [
        {
          "output_type": "stream",
          "name": "stdout",
          "text": [
            "['hello', 'world', ',', 'today', 'is', 'an', 'awesome', 'day']\n"
          ]
        }
      ]
    },
    {
      "cell_type": "code",
      "source": [
        "print(list(nltk.bigrams(sent)))"
      ],
      "metadata": {
        "colab": {
          "base_uri": "https://localhost:8080/"
        },
        "id": "mta8eKvL3St6",
        "outputId": "60aae646-8d4d-407f-dd7c-09230d09c046"
      },
      "execution_count": 23,
      "outputs": [
        {
          "output_type": "stream",
          "name": "stdout",
          "text": [
            "[('hello', 'world'), ('world', ','), (',', 'today'), ('today', 'is'), ('is', 'an'), ('an', 'awesome'), ('awesome', 'day')]\n"
          ]
        }
      ]
    },
    {
      "cell_type": "code",
      "source": [
        "bi_grams=list(nltk.trigrams(sent))\n",
        "bi_grams"
      ],
      "metadata": {
        "colab": {
          "base_uri": "https://localhost:8080/"
        },
        "id": "HNQj-b9i2Vmg",
        "outputId": "3e72cbb2-1cab-49d3-ca67-47b6ffead6bd"
      },
      "execution_count": 25,
      "outputs": [
        {
          "output_type": "execute_result",
          "data": {
            "text/plain": [
              "[('hello', 'world', ','),\n",
              " ('world', ',', 'today'),\n",
              " (',', 'today', 'is'),\n",
              " ('today', 'is', 'an'),\n",
              " ('is', 'an', 'awesome'),\n",
              " ('an', 'awesome', 'day')]"
            ]
          },
          "metadata": {},
          "execution_count": 25
        }
      ]
    },
    {
      "cell_type": "code",
      "source": [
        "n_grams=list(nltk.ngrams(sent,4))\n",
        "n_grams"
      ],
      "metadata": {
        "id": "j4ZDTP_24ef7",
        "outputId": "aad24c6c-1f94-4bad-e13e-92cb191b49cc",
        "colab": {
          "base_uri": "https://localhost:8080/"
        }
      },
      "execution_count": 27,
      "outputs": [
        {
          "output_type": "execute_result",
          "data": {
            "text/plain": [
              "[('hello', 'world', ',', 'today'),\n",
              " ('world', ',', 'today', 'is'),\n",
              " (',', 'today', 'is', 'an'),\n",
              " ('today', 'is', 'an', 'awesome'),\n",
              " ('is', 'an', 'awesome', 'day')]"
            ]
          },
          "metadata": {},
          "execution_count": 27
        }
      ]
    }
  ]
}