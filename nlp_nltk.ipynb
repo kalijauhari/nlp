{
  "nbformat": 4,
  "nbformat_minor": 0,
  "metadata": {
    "colab": {
      "provenance": [],
      "authorship_tag": "ABX9TyOYy738OMLyip1ReIEzRKpp",
      "include_colab_link": true
    },
    "kernelspec": {
      "name": "python3",
      "display_name": "Python 3"
    },
    "language_info": {
      "name": "python"
    }
  },
  "cells": [
    {
      "cell_type": "markdown",
      "metadata": {
        "id": "view-in-github",
        "colab_type": "text"
      },
      "source": [
        "<a href=\"https://colab.research.google.com/github/kalijauhari/nlp/blob/main/nlp_nltk.ipynb\" target=\"_parent\"><img src=\"https://colab.research.google.com/assets/colab-badge.svg\" alt=\"Open In Colab\"/></a>"
      ]
    },
    {
      "cell_type": "code",
      "execution_count": 1,
      "metadata": {
        "colab": {
          "base_uri": "https://localhost:8080/"
        },
        "id": "b0-sZzqV0vG9",
        "outputId": "1f9b815e-dbe9-475f-ed94-ec843903d4c9"
      },
      "outputs": [
        {
          "output_type": "stream",
          "name": "stderr",
          "text": [
            "[nltk_data] Downloading package punkt to /root/nltk_data...\n",
            "[nltk_data]   Unzipping tokenizers/punkt.zip.\n"
          ]
        },
        {
          "output_type": "execute_result",
          "data": {
            "text/plain": [
              "True"
            ]
          },
          "metadata": {},
          "execution_count": 1
        }
      ],
      "source": [
        "import nltk\n",
        "nltk.download('punkt')"
      ]
    },
    {
      "cell_type": "code",
      "source": [
        "from nltk.tokenize import sent_tokenize"
      ],
      "metadata": {
        "id": "Tl6WiVjh00b9"
      },
      "execution_count": 2,
      "outputs": []
    },
    {
      "cell_type": "code",
      "source": [
        "cor=\"My students are really obedient. so,I just love teaching them, I wish their great success ahead\"\n",
        "cor"
      ],
      "metadata": {
        "colab": {
          "base_uri": "https://localhost:8080/",
          "height": 35
        },
        "id": "eNZrr8Bj1JuZ",
        "outputId": "6f783493-cffa-437f-926d-b36ffaf027e7"
      },
      "execution_count": 3,
      "outputs": [
        {
          "output_type": "execute_result",
          "data": {
            "text/plain": [
              "'My students are really obedient. so,I just love teaching them, I wish their great success ahead'"
            ],
            "application/vnd.google.colaboratory.intrinsic+json": {
              "type": "string"
            }
          },
          "metadata": {},
          "execution_count": 3
        }
      ]
    },
    {
      "cell_type": "code",
      "source": [
        "sent=sent_tokenize(cor)\n",
        "print(sent)"
      ],
      "metadata": {
        "colab": {
          "base_uri": "https://localhost:8080/"
        },
        "id": "JXsnOQce1PH1",
        "outputId": "2abcca2f-c771-4b40-b9f9-66e3dc3dde7f"
      },
      "execution_count": 4,
      "outputs": [
        {
          "output_type": "stream",
          "name": "stdout",
          "text": [
            "['My students are really obedient.', 'so,I just love teaching them, I wish their great success ahead']\n"
          ]
        }
      ]
    },
    {
      "cell_type": "code",
      "source": [
        "sent[0]"
      ],
      "metadata": {
        "colab": {
          "base_uri": "https://localhost:8080/",
          "height": 35
        },
        "id": "UsX8MEIF1sX9",
        "outputId": "75ae8bab-c687-4979-976d-13404003efeb"
      },
      "execution_count": 6,
      "outputs": [
        {
          "output_type": "execute_result",
          "data": {
            "text/plain": [
              "'My students are really obedient.'"
            ],
            "application/vnd.google.colaboratory.intrinsic+json": {
              "type": "string"
            }
          },
          "metadata": {},
          "execution_count": 6
        }
      ]
    },
    {
      "cell_type": "code",
      "source": [
        "from nltk.tokenize import word_tokenize"
      ],
      "metadata": {
        "id": "6sk4B00k1usC"
      },
      "execution_count": 7,
      "outputs": []
    },
    {
      "cell_type": "code",
      "source": [
        "print(word_tokenize(\"We are going to fetch tokens!!\"))"
      ],
      "metadata": {
        "colab": {
          "base_uri": "https://localhost:8080/"
        },
        "id": "l9uC1Zzx12Os",
        "outputId": "db6a2852-f0fb-406e-9797-86e28e727af4"
      },
      "execution_count": 8,
      "outputs": [
        {
          "output_type": "stream",
          "name": "stdout",
          "text": [
            "['We', 'are', 'going', 'to', 'fetch', 'tokens', '!', '!']\n"
          ]
        }
      ]
    },
    {
      "cell_type": "code",
      "source": [
        "print(word_tokenize(cor))"
      ],
      "metadata": {
        "colab": {
          "base_uri": "https://localhost:8080/"
        },
        "id": "vcQrfuC816ub",
        "outputId": "58b611ca-13dc-489d-fdf4-aa397dd66195"
      },
      "execution_count": 9,
      "outputs": [
        {
          "output_type": "stream",
          "name": "stdout",
          "text": [
            "['My', 'students', 'are', 'really', 'obedient', '.', 'so', ',', 'I', 'just', 'love', 'teaching', 'them', ',', 'I', 'wish', 'their', 'great', 'success', 'ahead']\n"
          ]
        }
      ]
    },
    {
      "cell_type": "code",
      "source": [
        "#stemming\n",
        "from nltk.stem import PorterStemmer"
      ],
      "metadata": {
        "id": "4z2rsT1g17jq"
      },
      "execution_count": 10,
      "outputs": []
    },
    {
      "cell_type": "code",
      "source": [
        "ps=PorterStemmer()"
      ],
      "metadata": {
        "id": "uqf_XSK-1_XO"
      },
      "execution_count": 11,
      "outputs": []
    },
    {
      "cell_type": "code",
      "source": [
        "len(word_tokenize(cor))"
      ],
      "metadata": {
        "colab": {
          "base_uri": "https://localhost:8080/"
        },
        "id": "__-jEBL82Cio",
        "outputId": "65747dfc-27e9-4117-832a-c153ddd16e9f"
      },
      "execution_count": 12,
      "outputs": [
        {
          "output_type": "execute_result",
          "data": {
            "text/plain": [
              "20"
            ]
          },
          "metadata": {},
          "execution_count": 12
        }
      ]
    },
    {
      "cell_type": "code",
      "source": [
        "ps.stem(\"teaching\")"
      ],
      "metadata": {
        "colab": {
          "base_uri": "https://localhost:8080/",
          "height": 35
        },
        "id": "99V4reod2JUf",
        "outputId": "ac0a85dd-5028-414b-fc75-1f9d5a333bf0"
      },
      "execution_count": 14,
      "outputs": [
        {
          "output_type": "execute_result",
          "data": {
            "text/plain": [
              "'teach'"
            ],
            "application/vnd.google.colaboratory.intrinsic+json": {
              "type": "string"
            }
          },
          "metadata": {},
          "execution_count": 14
        }
      ]
    },
    {
      "cell_type": "code",
      "source": [
        "print(ps.stem(\"teaches\"))"
      ],
      "metadata": {
        "colab": {
          "base_uri": "https://localhost:8080/"
        },
        "id": "p1WWOnMc2KQ7",
        "outputId": "a8e30035-523b-466a-bf95-5ce2805b7a70"
      },
      "execution_count": 15,
      "outputs": [
        {
          "output_type": "stream",
          "name": "stdout",
          "text": [
            "teach\n"
          ]
        }
      ]
    },
    {
      "cell_type": "code",
      "source": [
        "sent"
      ],
      "metadata": {
        "colab": {
          "base_uri": "https://localhost:8080/"
        },
        "id": "gArOB5Gl2Vlf",
        "outputId": "9be77cd6-b8d6-4d55-8e6f-c35d173c0adc"
      },
      "execution_count": 16,
      "outputs": [
        {
          "output_type": "execute_result",
          "data": {
            "text/plain": [
              "['My students are really obedient.',\n",
              " 'so,I just love teaching them, I wish their great success ahead']"
            ]
          },
          "metadata": {},
          "execution_count": 16
        }
      ]
    },
    {
      "cell_type": "code",
      "source": [
        "for i in word_tokenize(\"I really liked the movie very much\"):\n",
        "    print(ps.stem(i))"
      ],
      "metadata": {
        "colab": {
          "base_uri": "https://localhost:8080/"
        },
        "id": "Gy-kn34E2poF",
        "outputId": "7dbb24eb-ced7-4194-e005-033edb65f061"
      },
      "execution_count": 18,
      "outputs": [
        {
          "output_type": "stream",
          "name": "stdout",
          "text": [
            "i\n",
            "realli\n",
            "like\n",
            "the\n",
            "movi\n",
            "veri\n",
            "much\n"
          ]
        }
      ]
    },
    {
      "cell_type": "code",
      "source": [
        "# lancesterstemmer\n",
        "from nltk.stem import LancasterStemmer"
      ],
      "metadata": {
        "id": "NHw1j1K92sdE"
      },
      "execution_count": 21,
      "outputs": []
    },
    {
      "cell_type": "code",
      "source": [
        "ls=LancasterStemmer()"
      ],
      "metadata": {
        "id": "eX4UAzTP21ks"
      },
      "execution_count": 23,
      "outputs": []
    },
    {
      "cell_type": "code",
      "source": [
        "print(\"porterstemmer,lancasterstemmer\")\n",
        "for x in word_tokenize(\"I really liked the movie very much\"):\n",
        "    print(ps.stem(x),\":\",ls.stem(x))"
      ],
      "metadata": {
        "colab": {
          "base_uri": "https://localhost:8080/"
        },
        "id": "WNAJ_PVU3CCq",
        "outputId": "5ef50b60-bf51-4cc5-d435-4a2cef3c0b69"
      },
      "execution_count": 24,
      "outputs": [
        {
          "output_type": "stream",
          "name": "stdout",
          "text": [
            "porterstemmer,lancasterstemmer\n",
            "i : i\n",
            "realli : real\n",
            "like : lik\n",
            "the : the\n",
            "movi : movy\n",
            "veri : very\n",
            "much : much\n"
          ]
        }
      ]
    },
    {
      "cell_type": "code",
      "source": [
        "from nltk.stem import SnowballStemmer"
      ],
      "metadata": {
        "id": "gmtmE1H53Idz"
      },
      "execution_count": 25,
      "outputs": []
    },
    {
      "cell_type": "code",
      "source": [
        "snow=SnowballStemmer(language='english')"
      ],
      "metadata": {
        "id": "yM1xGcZT3MSE"
      },
      "execution_count": 26,
      "outputs": []
    },
    {
      "cell_type": "code",
      "source": [
        "for x in word_tokenize(\"I really liked the movie very much\"):\n",
        "    print(snow.stem(x))"
      ],
      "metadata": {
        "colab": {
          "base_uri": "https://localhost:8080/"
        },
        "id": "-V4rI1Hy3PlX",
        "outputId": "871e35d9-cfe6-476e-8cdb-7c6c8a015f3c"
      },
      "execution_count": 27,
      "outputs": [
        {
          "output_type": "stream",
          "name": "stdout",
          "text": [
            "i\n",
            "realli\n",
            "like\n",
            "the\n",
            "movi\n",
            "veri\n",
            "much\n"
          ]
        }
      ]
    }
  ]
}