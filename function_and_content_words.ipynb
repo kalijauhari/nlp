{
  "nbformat": 4,
  "nbformat_minor": 0,
  "metadata": {
    "colab": {
      "provenance": [],
      "authorship_tag": "ABX9TyPfnkLcISI1if1llQRL/qZk",
      "include_colab_link": true
    },
    "kernelspec": {
      "name": "python3",
      "display_name": "Python 3"
    },
    "language_info": {
      "name": "python"
    }
  },
  "cells": [
    {
      "cell_type": "markdown",
      "metadata": {
        "id": "view-in-github",
        "colab_type": "text"
      },
      "source": [
        "<a href=\"https://colab.research.google.com/github/kalijauhari/nlp/blob/main/function_and_content_words.ipynb\" target=\"_parent\"><img src=\"https://colab.research.google.com/assets/colab-badge.svg\" alt=\"Open In Colab\"/></a>"
      ]
    },
    {
      "cell_type": "code",
      "execution_count": 1,
      "metadata": {
        "colab": {
          "base_uri": "https://localhost:8080/"
        },
        "id": "ZZ3QUGxQ9xb_",
        "outputId": "ad060696-0cd6-43a4-9550-3af44b196060"
      },
      "outputs": [
        {
          "output_type": "stream",
          "name": "stderr",
          "text": [
            "/usr/local/lib/python3.8/dist-packages/torch/cuda/__init__.py:497: UserWarning: Can't initialize NVML\n",
            "  warnings.warn(\"Can't initialize NVML\")\n"
          ]
        }
      ],
      "source": [
        "import spacy"
      ]
    },
    {
      "cell_type": "code",
      "source": [
        "model=spacy.load(\"en_core_web_sm\")"
      ],
      "metadata": {
        "id": "MX_PflyH9ztD"
      },
      "execution_count": 2,
      "outputs": []
    },
    {
      "cell_type": "code",
      "source": [
        "from spacy.lang.en.stop_words import STOP_WORDS"
      ],
      "metadata": {
        "id": "0zIMbK1c934s"
      },
      "execution_count": 3,
      "outputs": []
    },
    {
      "cell_type": "code",
      "source": [
        "print(STOP_WORDS)"
      ],
      "metadata": {
        "colab": {
          "base_uri": "https://localhost:8080/"
        },
        "id": "Faknh6Kf-GWo",
        "outputId": "515afbc6-eb7c-4edb-ce92-19d997daae32"
      },
      "execution_count": 4,
      "outputs": [
        {
          "output_type": "stream",
          "name": "stdout",
          "text": [
            "{'either', 'whereas', 'about', 'an', 'nevertheless', 'across', 'have', 'very', 'that', 'hence', 'sometime', 'beforehand', 'when', 'somewhere', '‘s', 'were', 'down', 'therefore', 'except', 'quite', 'because', 'call', 'had', 'nothing', 'ourselves', 'myself', 'above', 'put', 'before', 'more', \"'ve\", 'twelve', 'move', 'n‘t', 'would', 'too', 'off', 'themselves', 'these', 'ten', 'none', 'to', 'nobody', 'hereupon', 'really', 'we', 'did', 'next', \"n't\", 'such', 'i', 'still', 'the', 'seem', 'herein', 'someone', 'sometimes', 'around', 'was', 'well', 'please', 'a', \"'m\", 'any', 'even', 'on', 'among', 'toward', 'becomes', 'between', 'wherein', 'besides', '‘ll', 'indeed', 'together', 'up', 'she', 'make', \"'re\", 'what', 'here', 'under', 'latter', 'nor', 'few', 'after', 'does', 'per', 'almost', 'most', '’m', 'last', 'yourself', 'back', 'often', 'however', 'get', 'or', 'one', 'former', '’d', 'without', 'yourselves', 'it', 'give', 'whereafter', 'thereupon', 'them', 'into', 'itself', 'beside', 'must', 'hereafter', 'until', 'two', 'see', 'can', 'of', 'hereby', 'whether', 'who', 'then', 'while', 'whatever', 'his', 'seemed', 'hers', 'neither', 'within', 'is', 'noone', 'due', 'as', 'every', 'himself', 'thereafter', '‘ve', 'say', 'hundred', 'name', 'each', 'out', 'whoever', 'made', 'am', 'may', 'becoming', 'otherwise', 'why', 'same', 'whither', 'five', '’ve', 'all', 'part', 'moreover', 'six', 'go', 'our', 'its', 'which', 'whence', 'ever', 'at', 'eleven', 'less', 'nine', 'front', 'also', 'whenever', \"'ll\", 'both', 'us', 'do', 'you', 'meanwhile', 'already', 'just', 'third', 'over', 'n’t', 'only', 'mostly', '‘m', 'anyhow', 'thereby', 're', 'him', 'below', 'this', 'seeming', 'afterwards', 'no', 'whole', 'yet', 'upon', 'for', 'using', 'and', '’s', 'others', 'seems', 'formerly', 'never', 'full', 'whereby', 'has', 'whose', 'top', 'anyway', 'fifty', 'since', 'her', 'much', 'yours', 'from', 'bottom', 'my', 'show', 'something', 'there', 'against', '’re', 'anyone', 'me', 'might', 'in', 'could', 'than', 'thus', 'therein', 'nowhere', 'are', 'your', '‘d', 'elsewhere', 'thru', 'through', 'regarding', 'done', 'not', 'onto', 'rather', 'mine', 'if', 'several', 'side', 'wherever', 'herself', 'alone', 'during', 'perhaps', 'serious', 'forty', 'three', 'amount', 'everything', 'they', 'another', 'again', 'once', 'though', 'so', 'whereupon', 'became', 'latterly', 'throughout', 'namely', 'been', 'being', 'along', 'many', '’ll', 'by', 'anywhere', 'doing', 'else', 'how', 'whom', 'anything', 'everyone', 'now', 'keep', 'first', 'ca', 'become', 'twenty', 'behind', 'further', 'used', 'amongst', 'ours', 'least', 'thence', 'cannot', 'those', 'eight', 'he', 'sixty', 'be', 'fifteen', 'unless', \"'d\", 'always', 'although', 'somehow', \"'s\", 'towards', 'should', 'own', 'where', 'take', 'via', 'other', 'four', 'enough', '‘re', 'will', 'everywhere', 'empty', 'with', 'various', 'their', 'beyond', 'some', 'but'}\n"
          ]
        }
      ]
    },
    {
      "cell_type": "code",
      "source": [
        "len(STOP_WORDS)"
      ],
      "metadata": {
        "colab": {
          "base_uri": "https://localhost:8080/"
        },
        "id": "Biomlbid-TEj",
        "outputId": "cb39ce20-b4b5-4285-d16b-e5a46cf9424d"
      },
      "execution_count": 6,
      "outputs": [
        {
          "output_type": "execute_result",
          "data": {
            "text/plain": [
              "326"
            ]
          },
          "metadata": {},
          "execution_count": 6
        }
      ]
    },
    {
      "cell_type": "code",
      "source": [],
      "metadata": {
        "id": "k4shxLtY-Xlr"
      },
      "execution_count": null,
      "outputs": []
    },
    {
      "cell_type": "code",
      "source": [
        "STOP_WORDS\n"
      ],
      "metadata": {
        "colab": {
          "base_uri": "https://localhost:8080/"
        },
        "id": "w4cAve0z-LJN",
        "outputId": "a64e4b5e-e48e-4204-c711-eea39b4a699e"
      },
      "execution_count": 5,
      "outputs": [
        {
          "output_type": "execute_result",
          "data": {
            "text/plain": [
              "{\"'d\",\n",
              " \"'ll\",\n",
              " \"'m\",\n",
              " \"'re\",\n",
              " \"'s\",\n",
              " \"'ve\",\n",
              " 'a',\n",
              " 'about',\n",
              " 'above',\n",
              " 'across',\n",
              " 'after',\n",
              " 'afterwards',\n",
              " 'again',\n",
              " 'against',\n",
              " 'all',\n",
              " 'almost',\n",
              " 'alone',\n",
              " 'along',\n",
              " 'already',\n",
              " 'also',\n",
              " 'although',\n",
              " 'always',\n",
              " 'am',\n",
              " 'among',\n",
              " 'amongst',\n",
              " 'amount',\n",
              " 'an',\n",
              " 'and',\n",
              " 'another',\n",
              " 'any',\n",
              " 'anyhow',\n",
              " 'anyone',\n",
              " 'anything',\n",
              " 'anyway',\n",
              " 'anywhere',\n",
              " 'are',\n",
              " 'around',\n",
              " 'as',\n",
              " 'at',\n",
              " 'back',\n",
              " 'be',\n",
              " 'became',\n",
              " 'because',\n",
              " 'become',\n",
              " 'becomes',\n",
              " 'becoming',\n",
              " 'been',\n",
              " 'before',\n",
              " 'beforehand',\n",
              " 'behind',\n",
              " 'being',\n",
              " 'below',\n",
              " 'beside',\n",
              " 'besides',\n",
              " 'between',\n",
              " 'beyond',\n",
              " 'both',\n",
              " 'bottom',\n",
              " 'but',\n",
              " 'by',\n",
              " 'ca',\n",
              " 'call',\n",
              " 'can',\n",
              " 'cannot',\n",
              " 'could',\n",
              " 'did',\n",
              " 'do',\n",
              " 'does',\n",
              " 'doing',\n",
              " 'done',\n",
              " 'down',\n",
              " 'due',\n",
              " 'during',\n",
              " 'each',\n",
              " 'eight',\n",
              " 'either',\n",
              " 'eleven',\n",
              " 'else',\n",
              " 'elsewhere',\n",
              " 'empty',\n",
              " 'enough',\n",
              " 'even',\n",
              " 'ever',\n",
              " 'every',\n",
              " 'everyone',\n",
              " 'everything',\n",
              " 'everywhere',\n",
              " 'except',\n",
              " 'few',\n",
              " 'fifteen',\n",
              " 'fifty',\n",
              " 'first',\n",
              " 'five',\n",
              " 'for',\n",
              " 'former',\n",
              " 'formerly',\n",
              " 'forty',\n",
              " 'four',\n",
              " 'from',\n",
              " 'front',\n",
              " 'full',\n",
              " 'further',\n",
              " 'get',\n",
              " 'give',\n",
              " 'go',\n",
              " 'had',\n",
              " 'has',\n",
              " 'have',\n",
              " 'he',\n",
              " 'hence',\n",
              " 'her',\n",
              " 'here',\n",
              " 'hereafter',\n",
              " 'hereby',\n",
              " 'herein',\n",
              " 'hereupon',\n",
              " 'hers',\n",
              " 'herself',\n",
              " 'him',\n",
              " 'himself',\n",
              " 'his',\n",
              " 'how',\n",
              " 'however',\n",
              " 'hundred',\n",
              " 'i',\n",
              " 'if',\n",
              " 'in',\n",
              " 'indeed',\n",
              " 'into',\n",
              " 'is',\n",
              " 'it',\n",
              " 'its',\n",
              " 'itself',\n",
              " 'just',\n",
              " 'keep',\n",
              " 'last',\n",
              " 'latter',\n",
              " 'latterly',\n",
              " 'least',\n",
              " 'less',\n",
              " 'made',\n",
              " 'make',\n",
              " 'many',\n",
              " 'may',\n",
              " 'me',\n",
              " 'meanwhile',\n",
              " 'might',\n",
              " 'mine',\n",
              " 'more',\n",
              " 'moreover',\n",
              " 'most',\n",
              " 'mostly',\n",
              " 'move',\n",
              " 'much',\n",
              " 'must',\n",
              " 'my',\n",
              " 'myself',\n",
              " \"n't\",\n",
              " 'name',\n",
              " 'namely',\n",
              " 'neither',\n",
              " 'never',\n",
              " 'nevertheless',\n",
              " 'next',\n",
              " 'nine',\n",
              " 'no',\n",
              " 'nobody',\n",
              " 'none',\n",
              " 'noone',\n",
              " 'nor',\n",
              " 'not',\n",
              " 'nothing',\n",
              " 'now',\n",
              " 'nowhere',\n",
              " 'n‘t',\n",
              " 'n’t',\n",
              " 'of',\n",
              " 'off',\n",
              " 'often',\n",
              " 'on',\n",
              " 'once',\n",
              " 'one',\n",
              " 'only',\n",
              " 'onto',\n",
              " 'or',\n",
              " 'other',\n",
              " 'others',\n",
              " 'otherwise',\n",
              " 'our',\n",
              " 'ours',\n",
              " 'ourselves',\n",
              " 'out',\n",
              " 'over',\n",
              " 'own',\n",
              " 'part',\n",
              " 'per',\n",
              " 'perhaps',\n",
              " 'please',\n",
              " 'put',\n",
              " 'quite',\n",
              " 'rather',\n",
              " 're',\n",
              " 'really',\n",
              " 'regarding',\n",
              " 'same',\n",
              " 'say',\n",
              " 'see',\n",
              " 'seem',\n",
              " 'seemed',\n",
              " 'seeming',\n",
              " 'seems',\n",
              " 'serious',\n",
              " 'several',\n",
              " 'she',\n",
              " 'should',\n",
              " 'show',\n",
              " 'side',\n",
              " 'since',\n",
              " 'six',\n",
              " 'sixty',\n",
              " 'so',\n",
              " 'some',\n",
              " 'somehow',\n",
              " 'someone',\n",
              " 'something',\n",
              " 'sometime',\n",
              " 'sometimes',\n",
              " 'somewhere',\n",
              " 'still',\n",
              " 'such',\n",
              " 'take',\n",
              " 'ten',\n",
              " 'than',\n",
              " 'that',\n",
              " 'the',\n",
              " 'their',\n",
              " 'them',\n",
              " 'themselves',\n",
              " 'then',\n",
              " 'thence',\n",
              " 'there',\n",
              " 'thereafter',\n",
              " 'thereby',\n",
              " 'therefore',\n",
              " 'therein',\n",
              " 'thereupon',\n",
              " 'these',\n",
              " 'they',\n",
              " 'third',\n",
              " 'this',\n",
              " 'those',\n",
              " 'though',\n",
              " 'three',\n",
              " 'through',\n",
              " 'throughout',\n",
              " 'thru',\n",
              " 'thus',\n",
              " 'to',\n",
              " 'together',\n",
              " 'too',\n",
              " 'top',\n",
              " 'toward',\n",
              " 'towards',\n",
              " 'twelve',\n",
              " 'twenty',\n",
              " 'two',\n",
              " 'under',\n",
              " 'unless',\n",
              " 'until',\n",
              " 'up',\n",
              " 'upon',\n",
              " 'us',\n",
              " 'used',\n",
              " 'using',\n",
              " 'various',\n",
              " 'very',\n",
              " 'via',\n",
              " 'was',\n",
              " 'we',\n",
              " 'well',\n",
              " 'were',\n",
              " 'what',\n",
              " 'whatever',\n",
              " 'when',\n",
              " 'whence',\n",
              " 'whenever',\n",
              " 'where',\n",
              " 'whereafter',\n",
              " 'whereas',\n",
              " 'whereby',\n",
              " 'wherein',\n",
              " 'whereupon',\n",
              " 'wherever',\n",
              " 'whether',\n",
              " 'which',\n",
              " 'while',\n",
              " 'whither',\n",
              " 'who',\n",
              " 'whoever',\n",
              " 'whole',\n",
              " 'whom',\n",
              " 'whose',\n",
              " 'why',\n",
              " 'will',\n",
              " 'with',\n",
              " 'within',\n",
              " 'without',\n",
              " 'would',\n",
              " 'yet',\n",
              " 'you',\n",
              " 'your',\n",
              " 'yours',\n",
              " 'yourself',\n",
              " 'yourselves',\n",
              " '‘d',\n",
              " '‘ll',\n",
              " '‘m',\n",
              " '‘re',\n",
              " '‘s',\n",
              " '‘ve',\n",
              " '’d',\n",
              " '’ll',\n",
              " '’m',\n",
              " '’re',\n",
              " '’s',\n",
              " '’ve'}"
            ]
          },
          "metadata": {},
          "execution_count": 5
        }
      ]
    },
    {
      "cell_type": "code",
      "source": [
        "doc=model(\"I just wish,all of you to have good package placements soon!!\")"
      ],
      "metadata": {
        "id": "2P3PADrC-gUT"
      },
      "execution_count": 18,
      "outputs": []
    },
    {
      "cell_type": "code",
      "source": [
        "for token in doc:\n",
        "  print(token)"
      ],
      "metadata": {
        "colab": {
          "base_uri": "https://localhost:8080/"
        },
        "id": "IZRRcCMU-r1H",
        "outputId": "870b21b4-0697-4b22-9bee-188a0ebb0a74"
      },
      "execution_count": 8,
      "outputs": [
        {
          "output_type": "stream",
          "name": "stdout",
          "text": [
            "I\n",
            "just\n",
            "wish\n",
            "all\n",
            "of\n",
            "you\n",
            "to\n",
            "have\n",
            "good\n",
            "package\n",
            "placements\n",
            "soon\n"
          ]
        }
      ]
    },
    {
      "cell_type": "code",
      "source": [
        "### display all the function words(stop_words):is_stop"
      ],
      "metadata": {
        "id": "A_wGKK7w-8cu"
      },
      "execution_count": 9,
      "outputs": []
    },
    {
      "cell_type": "code",
      "source": [
        "for token in doc:\n",
        "  if token.is_stop:\n",
        "    print(token)"
      ],
      "metadata": {
        "colab": {
          "base_uri": "https://localhost:8080/"
        },
        "id": "uquycL74_Cad",
        "outputId": "22a1bcbe-ded8-4e19-936d-d0bd82fc78a9"
      },
      "execution_count": 10,
      "outputs": [
        {
          "output_type": "stream",
          "name": "stdout",
          "text": [
            "I\n",
            "just\n",
            "all\n",
            "of\n",
            "you\n",
            "to\n",
            "have\n"
          ]
        }
      ]
    },
    {
      "cell_type": "code",
      "source": [
        "###display all the content words"
      ],
      "metadata": {
        "id": "GACNI9-R_WQH"
      },
      "execution_count": null,
      "outputs": []
    },
    {
      "cell_type": "code",
      "source": [
        "for token in doc:\n",
        "  if not token.is_stop:\n",
        "    print(token)"
      ],
      "metadata": {
        "colab": {
          "base_uri": "https://localhost:8080/"
        },
        "id": "M0zWhZV1_k7J",
        "outputId": "0f739954-0c86-4582-83f7-11cd35c21399"
      },
      "execution_count": 11,
      "outputs": [
        {
          "output_type": "stream",
          "name": "stdout",
          "text": [
            "wish\n",
            "good\n",
            "package\n",
            "placements\n",
            "soon\n"
          ]
        }
      ]
    },
    {
      "cell_type": "code",
      "source": [
        "content_words=[]\n",
        "def text_cleaning(text):\n",
        "  for token in text:\n",
        "    if not token.is_stop:\n",
        "      content_words.append(token)\n",
        "text_cleaning(doc)"
      ],
      "metadata": {
        "id": "P5s77La__yAi"
      },
      "execution_count": 12,
      "outputs": []
    },
    {
      "cell_type": "code",
      "source": [
        "print(content_words)"
      ],
      "metadata": {
        "colab": {
          "base_uri": "https://localhost:8080/"
        },
        "id": "iM0xmMv_Ao7O",
        "outputId": "9cb96b42-963b-4abd-fa53-a2cadb61ec33"
      },
      "execution_count": 13,
      "outputs": [
        {
          "output_type": "stream",
          "name": "stdout",
          "text": [
            "[wish, good, package, placements, soon]\n"
          ]
        }
      ]
    },
    {
      "cell_type": "code",
      "source": [
        "content_words=[]\n",
        "def text_cleaning(text):\n",
        "  content_words=[token.text for token in doc if  not token.is_stop]\n",
        "  return content_words\n",
        "text_cleaning(doc)"
      ],
      "metadata": {
        "colab": {
          "base_uri": "https://localhost:8080/"
        },
        "id": "7IYlq8kKAwcO",
        "outputId": "9f979021-c649-47c5-d1d6-ddeecf4d7980"
      },
      "execution_count": 19,
      "outputs": [
        {
          "output_type": "execute_result",
          "data": {
            "text/plain": [
              "['wish', ',', 'good', 'package', 'placements', 'soon', '!', '!']"
            ]
          },
          "metadata": {},
          "execution_count": 19
        }
      ]
    },
    {
      "cell_type": "code",
      "source": [
        "#var.is_punct   token.is_stop"
      ],
      "metadata": {
        "id": "_Mx_qe2jCyeB"
      },
      "execution_count": null,
      "outputs": []
    }
  ]
}