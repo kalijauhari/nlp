{
  "nbformat": 4,
  "nbformat_minor": 0,
  "metadata": {
    "colab": {
      "provenance": [],
      "authorship_tag": "ABX9TyMYFuNqeniwtz8P6xLVPL9x",
      "include_colab_link": true
    },
    "kernelspec": {
      "name": "python3",
      "display_name": "Python 3"
    },
    "language_info": {
      "name": "python"
    }
  },
  "cells": [
    {
      "cell_type": "markdown",
      "metadata": {
        "id": "view-in-github",
        "colab_type": "text"
      },
      "source": [
        "<a href=\"https://colab.research.google.com/github/kalijauhari/nlp/blob/main/spacy_nlp.ipynb\" target=\"_parent\"><img src=\"https://colab.research.google.com/assets/colab-badge.svg\" alt=\"Open In Colab\"/></a>"
      ]
    },
    {
      "cell_type": "code",
      "execution_count": 2,
      "metadata": {
        "colab": {
          "base_uri": "https://localhost:8080/"
        },
        "id": "zWPNP6VHu2tp",
        "outputId": "b51c672b-6c0c-4836-c4d2-17961ce4363f"
      },
      "outputs": [
        {
          "output_type": "stream",
          "name": "stderr",
          "text": [
            "/usr/local/lib/python3.8/dist-packages/torch/cuda/__init__.py:497: UserWarning: Can't initialize NVML\n",
            "  warnings.warn(\"Can't initialize NVML\")\n"
          ]
        }
      ],
      "source": [
        "import spacy"
      ]
    },
    {
      "cell_type": "code",
      "source": [
        "model=spacy.load(\"en_core_web_sm\")"
      ],
      "metadata": {
        "id": "_3OwDRrTvUSX"
      },
      "execution_count": 3,
      "outputs": []
    },
    {
      "cell_type": "code",
      "source": [
        "para=\"arguing Dr. John roaming 60$ catlike Lipika ate programs 123 loving\""
      ],
      "metadata": {
        "id": "OKeZYvYm4467"
      },
      "execution_count": 6,
      "outputs": []
    },
    {
      "cell_type": "code",
      "source": [
        "for sentence in (model(para)).sents:\n",
        "  for word in sentence:    \n",
        "   print(word,end=\" \")\n",
        "  print(sentence)"
      ],
      "metadata": {
        "colab": {
          "base_uri": "https://localhost:8080/"
        },
        "id": "HPL0q5BI4ipD",
        "outputId": "951a353e-cc9c-4f22-9fb8-6b6274de8015"
      },
      "execution_count": 9,
      "outputs": [
        {
          "output_type": "stream",
          "name": "stdout",
          "text": [
            "arguing Dr. John roaming 60 $ catlike Lipika ate programs 123 loving arguing Dr. John roaming 60$ catlike Lipika ate programs 123 loving\n"
          ]
        }
      ]
    },
    {
      "cell_type": "code",
      "source": [
        "doc=model(para)\n",
        "type(doc)"
      ],
      "metadata": {
        "colab": {
          "base_uri": "https://localhost:8080/"
        },
        "id": "GqPklYzO5lV7",
        "outputId": "b8c1e4bc-2095-4b5a-b6ee-9e91f48aa7b1"
      },
      "execution_count": 12,
      "outputs": [
        {
          "output_type": "execute_result",
          "data": {
            "text/plain": [
              "spacy.tokens.doc.Doc"
            ]
          },
          "metadata": {},
          "execution_count": 12
        }
      ]
    },
    {
      "cell_type": "code",
      "source": [
        "type(para)"
      ],
      "metadata": {
        "colab": {
          "base_uri": "https://localhost:8080/"
        },
        "id": "keKQ12Up7H3l",
        "outputId": "203c9dd0-b800-4029-e674-a29ce38e6241"
      },
      "execution_count": 13,
      "outputs": [
        {
          "output_type": "execute_result",
          "data": {
            "text/plain": [
              "str"
            ]
          },
          "metadata": {},
          "execution_count": 13
        }
      ]
    },
    {
      "cell_type": "code",
      "source": [
        "for tok in model(para):\n",
        "  print(tok)"
      ],
      "metadata": {
        "colab": {
          "base_uri": "https://localhost:8080/"
        },
        "id": "0EdEnJFy7n_0",
        "outputId": "14587e26-d90b-4f47-e23a-40578440ff1c"
      },
      "execution_count": 14,
      "outputs": [
        {
          "output_type": "stream",
          "name": "stdout",
          "text": [
            "arguing\n",
            "Dr.\n",
            "John\n",
            "roaming\n",
            "60\n",
            "$\n",
            "catlike\n",
            "Lipika\n",
            "ate\n",
            "programs\n",
            "123\n",
            "loving\n"
          ]
        }
      ]
    },
    {
      "cell_type": "code",
      "source": [
        "str = \"Dr. John has done ph.D. on 20.3.20 at IIT Madras.!\"\n",
        "for w in model(str).sents:\n",
        "  print(w)"
      ],
      "metadata": {
        "colab": {
          "base_uri": "https://localhost:8080/"
        },
        "id": "5YNXuF5i8Set",
        "outputId": "4ed4e7b3-4404-4958-b178-b635707736c2"
      },
      "execution_count": 27,
      "outputs": [
        {
          "output_type": "stream",
          "name": "stdout",
          "text": [
            "Dr. John has done ph.D. on 20.3.20 at IIT Madras.!\n"
          ]
        }
      ]
    },
    {
      "cell_type": "code",
      "source": [
        "str.split('.')"
      ],
      "metadata": {
        "colab": {
          "base_uri": "https://localhost:8080/"
        },
        "id": "jLObW92z8vAI",
        "outputId": "2806316b-19ac-4b35-9dff-39d93d462b4b"
      },
      "execution_count": 28,
      "outputs": [
        {
          "output_type": "execute_result",
          "data": {
            "text/plain": [
              "['Dr', ' John has done ph', 'D', ' on 20', '3', '20 at IIT Madras', '!']"
            ]
          },
          "metadata": {},
          "execution_count": 28
        }
      ]
    },
    {
      "cell_type": "code",
      "source": [
        "for sent in str.split('.'):\n",
        "  print(sent)"
      ],
      "metadata": {
        "colab": {
          "base_uri": "https://localhost:8080/"
        },
        "id": "16EbxNzc83hT",
        "outputId": "badcdf76-c39e-46d3-8f76-7ed39e4c22b1"
      },
      "execution_count": 29,
      "outputs": [
        {
          "output_type": "stream",
          "name": "stdout",
          "text": [
            "Dr\n",
            " John has done ph\n",
            "D\n",
            " on 20\n",
            "3\n",
            "20 at IIT Madras\n",
            "!\n"
          ]
        }
      ]
    },
    {
      "cell_type": "code",
      "source": [
        "for lem in model(str):\n",
        "  print(lem,\":\",lem.lemma_,\":\",lem.pos_)\n"
      ],
      "metadata": {
        "colab": {
          "base_uri": "https://localhost:8080/"
        },
        "id": "3yRV_o6W9Hm_",
        "outputId": "dcde24a9-acd7-41a2-ee0e-1f806d8cffba"
      },
      "execution_count": 30,
      "outputs": [
        {
          "output_type": "stream",
          "name": "stdout",
          "text": [
            "Dr. : Dr. : PROPN\n",
            "John : John : PROPN\n",
            "has : have : AUX\n",
            "done : do : VERB\n",
            "ph : ph : PROPN\n",
            ". : . : PROPN\n",
            "D. : D. : PROPN\n",
            "on : on : ADP\n",
            "20.3.20 : 20.3.20 : NUM\n",
            "at : at : ADP\n",
            "IIT : IIT : PROPN\n",
            "Madras : Madras : PROPN\n",
            ". : . : PUNCT\n",
            "! : ! : PUNCT\n"
          ]
        }
      ]
    },
    {
      "cell_type": "code",
      "source": [
        "### NER: NAMED ENTITY RECOGNIZATION : (var.label_)"
      ],
      "metadata": {
        "id": "nalhhYwv_DxG"
      },
      "execution_count": null,
      "outputs": []
    },
    {
      "cell_type": "code",
      "source": [
        "for token in (model(str)).ents:\n",
        "  print(token,\":\",token.label_)"
      ],
      "metadata": {
        "colab": {
          "base_uri": "https://localhost:8080/"
        },
        "id": "RQ2cxhmi_MIE",
        "outputId": "16cf4663-588e-41d5-bfaf-5c0560082210"
      },
      "execution_count": 31,
      "outputs": [
        {
          "output_type": "stream",
          "name": "stdout",
          "text": [
            "John : PERSON\n",
            "D. : NORP\n",
            "20.3.20 : CARDINAL\n",
            "IIT Madras : ORG\n"
          ]
        }
      ]
    },
    {
      "cell_type": "code",
      "source": [
        "model.pipe_labels['ner']"
      ],
      "metadata": {
        "colab": {
          "base_uri": "https://localhost:8080/"
        },
        "id": "tRMZLkZeAz4n",
        "outputId": "39517077-2d40-42f2-fa76-b38e190b6472"
      },
      "execution_count": 33,
      "outputs": [
        {
          "output_type": "execute_result",
          "data": {
            "text/plain": [
              "['CARDINAL',\n",
              " 'DATE',\n",
              " 'EVENT',\n",
              " 'FAC',\n",
              " 'GPE',\n",
              " 'LANGUAGE',\n",
              " 'LAW',\n",
              " 'LOC',\n",
              " 'MONEY',\n",
              " 'NORP',\n",
              " 'ORDINAL',\n",
              " 'ORG',\n",
              " 'PERCENT',\n",
              " 'PERSON',\n",
              " 'PRODUCT',\n",
              " 'QUANTITY',\n",
              " 'TIME',\n",
              " 'WORK_OF_ART']"
            ]
          },
          "metadata": {},
          "execution_count": 33
        }
      ]
    },
    {
      "cell_type": "code",
      "source": [
        "spacy.explain('GPE')"
      ],
      "metadata": {
        "colab": {
          "base_uri": "https://localhost:8080/",
          "height": 35
        },
        "id": "TOZuswx9BIxQ",
        "outputId": "98a92c79-3efa-4e66-ccc8-7ce0700be4e1"
      },
      "execution_count": 34,
      "outputs": [
        {
          "output_type": "execute_result",
          "data": {
            "text/plain": [
              "'Countries, cities, states'"
            ],
            "application/vnd.google.colaboratory.intrinsic+json": {
              "type": "string"
            }
          },
          "metadata": {},
          "execution_count": 34
        }
      ]
    },
    {
      "cell_type": "code",
      "source": [
        "spacy.explain('FAC')"
      ],
      "metadata": {
        "colab": {
          "base_uri": "https://localhost:8080/",
          "height": 35
        },
        "id": "jTYrWVudBhR7",
        "outputId": "f40b89c4-c7bd-4537-b33a-e53c98b2fe8d"
      },
      "execution_count": 35,
      "outputs": [
        {
          "output_type": "execute_result",
          "data": {
            "text/plain": [
              "'Buildings, airports, highways, bridges, etc.'"
            ],
            "application/vnd.google.colaboratory.intrinsic+json": {
              "type": "string"
            }
          },
          "metadata": {},
          "execution_count": 35
        }
      ]
    },
    {
      "cell_type": "code",
      "source": [
        "model_blank=spacy.blank(\"en\")"
      ],
      "metadata": {
        "id": "u3f72rOnBtVB"
      },
      "execution_count": 36,
      "outputs": []
    },
    {
      "cell_type": "code",
      "source": [
        "model.pipe_names"
      ],
      "metadata": {
        "colab": {
          "base_uri": "https://localhost:8080/"
        },
        "id": "BDX1vrSODEli",
        "outputId": "260773c8-492a-4f4a-8f36-068346844357"
      },
      "execution_count": 37,
      "outputs": [
        {
          "output_type": "execute_result",
          "data": {
            "text/plain": [
              "['tok2vec', 'tagger', 'parser', 'attribute_ruler', 'lemmatizer', 'ner']"
            ]
          },
          "metadata": {},
          "execution_count": 37
        }
      ]
    },
    {
      "cell_type": "code",
      "source": [
        "model_blank.pipe_names"
      ],
      "metadata": {
        "colab": {
          "base_uri": "https://localhost:8080/"
        },
        "id": "YytnVB8NDQuo",
        "outputId": "8ecd987f-ed9b-4dab-aaca-117fb99ebafe"
      },
      "execution_count": 38,
      "outputs": [
        {
          "output_type": "execute_result",
          "data": {
            "text/plain": [
              "[]"
            ]
          },
          "metadata": {},
          "execution_count": 38
        }
      ]
    },
    {
      "cell_type": "code",
      "source": [
        "model_blank.add_pipe('ner')"
      ],
      "metadata": {
        "colab": {
          "base_uri": "https://localhost:8080/"
        },
        "id": "Mze4k7ZQDWer",
        "outputId": "703291a7-e657-4668-d30e-419c89816752"
      },
      "execution_count": 39,
      "outputs": [
        {
          "output_type": "execute_result",
          "data": {
            "text/plain": [
              "<spacy.pipeline.ner.EntityRecognizer at 0x7f0f377f3510>"
            ]
          },
          "metadata": {},
          "execution_count": 39
        }
      ]
    },
    {
      "cell_type": "code",
      "source": [
        "model_blank.pipe_names"
      ],
      "metadata": {
        "colab": {
          "base_uri": "https://localhost:8080/"
        },
        "id": "q2DG2OvLDi4A",
        "outputId": "a84685b6-5003-4b70-fc6e-f013f8793137"
      },
      "execution_count": 40,
      "outputs": [
        {
          "output_type": "execute_result",
          "data": {
            "text/plain": [
              "['ner']"
            ]
          },
          "metadata": {},
          "execution_count": 40
        }
      ]
    }
  ]
}