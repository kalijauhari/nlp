{
  "cells": [
    {
      "cell_type": "markdown",
      "metadata": {
        "id": "view-in-github",
        "colab_type": "text"
      },
      "source": [
        "<a href=\"https://colab.research.google.com/github/kalijauhari/nlp/blob/main/langmodel_nlp.ipynb\" target=\"_parent\"><img src=\"https://colab.research.google.com/assets/colab-badge.svg\" alt=\"Open In Colab\"/></a>"
      ]
    },
    {
      "cell_type": "code",
      "execution_count": 1,
      "metadata": {
        "colab": {
          "base_uri": "https://localhost:8080/"
        },
        "id": "lSbfs6B31r8y",
        "outputId": "66ac0141-d645-46e4-b412-0351d668d4c6"
      },
      "outputs": [
        {
          "output_type": "stream",
          "name": "stderr",
          "text": [
            "[nltk_data] Downloading package punkt to /root/nltk_data...\n",
            "[nltk_data]   Unzipping tokenizers/punkt.zip.\n"
          ]
        }
      ],
      "source": [
        "import nltk\n",
        "nltk.download('punkt')\n",
        "import nltk.util\n",
        "import nltk.tokenize"
      ]
    },
    {
      "cell_type": "code",
      "execution_count": 2,
      "metadata": {
        "id": "-B209eT112Sf"
      },
      "outputs": [],
      "source": [
        "from nltk.util import bigrams,trigrams,ngrams"
      ]
    },
    {
      "cell_type": "code",
      "execution_count": 12,
      "metadata": {
        "colab": {
          "base_uri": "https://localhost:8080/"
        },
        "id": "Ggco-qO61_qZ",
        "outputId": "98903f6b-be7f-4bae-e928-aa5df31d8f79"
      },
      "outputs": [
        {
          "output_type": "stream",
          "name": "stdout",
          "text": [
            "['hello', 'world', ',', 'this', 'is', 'a', 'cool', 'day']\n"
          ]
        }
      ],
      "source": [
        "from nltk.tokenize import sent_tokenize,word_tokenize\n",
        "str=\"hello world, this is a cool day\"\n",
        "sent=word_tokenize(str)\n",
        "print(sent)"
      ]
    },
    {
      "cell_type": "code",
      "execution_count": 9,
      "metadata": {
        "colab": {
          "base_uri": "https://localhost:8080/"
        },
        "id": "mta8eKvL3St6",
        "outputId": "2d2e15ba-c34b-48ee-e4cf-a2f6f12db5a4"
      },
      "outputs": [
        {
          "output_type": "stream",
          "name": "stdout",
          "text": [
            "[('hello', 'world'), ('world', ','), (',', 'this'), ('this', 'ais'), ('ais', 'a'), ('a', 'cool'), ('cool', 'day')]\n"
          ]
        }
      ],
      "source": [
        "print(list(nltk.bigrams(sent)))"
      ]
    },
    {
      "cell_type": "code",
      "execution_count": 15,
      "metadata": {
        "id": "HNQj-b9i2Vmg",
        "colab": {
          "base_uri": "https://localhost:8080/"
        },
        "outputId": "4b947c49-a426-4c86-9121-b58f6d4b1e53"
      },
      "outputs": [
        {
          "output_type": "stream",
          "name": "stdout",
          "text": [
            "[('hello', 'world', ','), ('world', ',', 'this'), (',', 'this', 'is'), ('this', 'is', 'a'), ('is', 'a', 'cool'), ('a', 'cool', 'day')]\n"
          ]
        }
      ],
      "source": [
        "Tri_grams=list(nltk.trigrams(sent))\n",
        "print(Tri_grams)"
      ]
    },
    {
      "cell_type": "code",
      "source": [
        "Four_grams=list(nltk.ngrams(sent,4))\n",
        "Four_grams"
      ],
      "metadata": {
        "colab": {
          "base_uri": "https://localhost:8080/"
        },
        "id": "pUpqPt7pCysJ",
        "outputId": "f4847d75-e7ff-48bc-e7e1-719ff218efe6"
      },
      "execution_count": 16,
      "outputs": [
        {
          "output_type": "execute_result",
          "data": {
            "text/plain": [
              "[('hello', 'world', ',', 'this'),\n",
              " ('world', ',', 'this', 'is'),\n",
              " (',', 'this', 'is', 'a'),\n",
              " ('this', 'is', 'a', 'cool'),\n",
              " ('is', 'a', 'cool', 'day')]"
            ]
          },
          "metadata": {},
          "execution_count": 16
        }
      ]
    },
    {
      "cell_type": "code",
      "source": [
        "Five_grams=list(nltk.ngrams(sent,5))\n",
        "Five_grams"
      ],
      "metadata": {
        "id": "XGq3MPg7DIQe",
        "outputId": "e4770441-1418-4494-c26d-b3aa822b4462",
        "colab": {
          "base_uri": "https://localhost:8080/"
        }
      },
      "execution_count": 17,
      "outputs": [
        {
          "output_type": "execute_result",
          "data": {
            "text/plain": [
              "[('hello', 'world', ',', 'this', 'is'),\n",
              " ('world', ',', 'this', 'is', 'a'),\n",
              " (',', 'this', 'is', 'a', 'cool'),\n",
              " ('this', 'is', 'a', 'cool', 'day')]"
            ]
          },
          "metadata": {},
          "execution_count": 17
        }
      ]
    }
  ],
  "metadata": {
    "colab": {
      "provenance": [],
      "authorship_tag": "ABX9TyMocI70P60phI2H44E0V8Ms",
      "include_colab_link": true
    },
    "kernelspec": {
      "display_name": "Python 3",
      "name": "python3"
    },
    "language_info": {
      "name": "python"
    }
  },
  "nbformat": 4,
  "nbformat_minor": 0
}